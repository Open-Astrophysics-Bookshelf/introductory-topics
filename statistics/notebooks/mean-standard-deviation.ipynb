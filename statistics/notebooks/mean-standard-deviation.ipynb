{
 "cells": [
  {
   "cell_type": "markdown",
   "metadata": {},
   "source": [
    "# The Mean and Standard Deviation of a Normal Distribution\n",
    "\\begin{equation}\\newcommand{\\prob}{\\mathcal{P}}\\end{equation}\n",
    "In this notebook, you are going to explore how the *normal* probability distribution $\\prob(x)$ is characterized by the mean,\n",
    "\\begin{equation}\n",
    "\\newcommand{\\mean}[1]{\\langle#1\\rangle}\n",
    "\\newcommand{\\dif}{\\mathrm{d}}\n",
    "\\mean{x} = \\int x\\prob(x)\\,\\dif x,\n",
    "\\end{equation}\n",
    "and the standard deviation,\n",
    "\\begin{equation}\n",
    "\\mean{(x-\\mean{x})^2} = \\mean{x^2}-\\mean{x}^2   \n",
    "\\end{equation}\n",
    "with\n",
    "\\begin{equation}\n",
    "\\mean{x^2} = \\int x^2\\prob(x)\\,\\dif x.\n",
    "\\end{equation}\n",
    "For a normal distribution,\n",
    "\\begin{equation}\n",
    "\\prob(x;\\mu,\\sigma) = \\frac{1}{\\sqrt{2\\pi}\\sigma} \\exp\\left[-\\frac{\\left(x-\\mu\\right)^{2}}{2\\sigma^{2}}\\right],\n",
    "\\end{equation}\n",
    "you can show that $\\mean{x} = \\mu$ and $\\mean{x^2}-\\mean{x}^2 = \\sigma^2$."
   ]
  },
  {
   "cell_type": "markdown",
   "metadata": {},
   "source": [
    "To begin, we'll set up our work environment; in addition, we shall import from `scipy.stats` the `norm` class."
   ]
  },
  {
   "cell_type": "code",
   "execution_count": null,
   "metadata": {
    "collapsed": true
   },
   "outputs": [],
   "source": [
    "import numpy as np\n",
    "import matplotlib.pyplot as plt\n",
    "%matplotlib inline\n",
    "from scipy.stats import norm"
   ]
  },
  {
   "cell_type": "markdown",
   "metadata": {},
   "source": [
    "We are going to make several different plots, so let's put all of the steps for doing that in a single function `plot_one`, which is in the following cell.\n",
    "\n",
    "The line\n",
    "```python\n",
    "    d = norm(loc=mu,scale=sigma)\n",
    "```\n",
    "means that we make an *object* named `d` that holds a description of our normal distribution.  The keywords `loc` and `scale` set the mean and standard deviation of this distribution.\n",
    "We next set up an array of `npts=100` values from $x_\\min=\\mu-5\\sigma$ to $x_\\max=\\mu+5\\sigma$ and define $p$ to be the values of the normal distribution at these points.\n",
    "```python\n",
    "    x = np.linspace(xmin,xmax,npts)\n",
    "    p = d.pdf(x)\n",
    "```\n",
    "We then make a simple plot.\n",
    "\n",
    "The last line\n",
    "```python\n",
    "    return d\n",
    "```\n",
    "means that the routine returns the object `d` for use.\n",
    "\n",
    "Thus if we write\n",
    "```python\n",
    "    d = plot_one(0.0,1.0)\n",
    "```\n",
    "we will get a plot of a normal distribution with $\\mu=0$, $\\sigma=1$."
   ]
  },
  {
   "cell_type": "code",
   "execution_count": null,
   "metadata": {
    "collapsed": true
   },
   "outputs": [],
   "source": [
    "def plot_one(mu,sigma):\n",
    "    d = norm(loc=mu,scale=sigma)\n",
    "    xmin = mu - 5*sigma\n",
    "    xmax = mu + 5*sigma\n",
    "    npts = 100\n",
    "    x = np.linspace(xmin,xmax,npts)\n",
    "    p = d.pdf(x)\n",
    "    plt.xlim(xmin,xmax)\n",
    "    plt.plot(x,p,color='black')\n",
    "    plt.xlabel('x')\n",
    "    plt.ylabel('p(x)')\n",
    "    return d"
   ]
  },
  {
   "cell_type": "code",
   "execution_count": null,
   "metadata": {
    "collapsed": false
   },
   "outputs": [],
   "source": [
    "d = plot_one(0.0,1.0)"
   ]
  },
  {
   "cell_type": "markdown",
   "metadata": {},
   "source": [
    "This is good.  Let's verify the mean of the distribution."
   ]
  },
  {
   "cell_type": "code",
   "execution_count": null,
   "metadata": {
    "collapsed": false
   },
   "outputs": [],
   "source": [
    "d = plot_one(0.0,1.0)\n",
    "# the mean and standard deviation\n",
    "xmean = d.mean()\n",
    "# height of the distribtion at the mean, standard deviation\n",
    "pmean = d.pdf(d.mean())\n",
    "plt.vlines(xmean,0,pmean,color='red',linestyle='dotted')\n",
    "plt.annotate(s='mean: {0:4.1f}'.format(xmean),xy=(xmean,pmean),xytext=(15,0),xycoords='data',\n",
    "            textcoords='offset points',ha='left',va='top')"
   ]
  },
  {
   "cell_type": "markdown",
   "metadata": {},
   "source": [
    "Now let's explore how the standard deviation is related to the width of the distribution.  We'll define a new function, which makes the plot and then shades in the region $\\mu-N\\sigma$ to $\\mu+N\\sigma$, where $N$ is an argument of the function."
   ]
  },
  {
   "cell_type": "code",
   "execution_count": null,
   "metadata": {
    "collapsed": false
   },
   "outputs": [],
   "source": [
    "def plot_one_with_sigma(mu,sigma,N):\n",
    "    d = plot_one(mu,sigma)\n",
    "    x = np.linspace(mu-N*sigma,mu+N*sigma,100)\n",
    "    plt.fill_between(x, 0.0, d.pdf(x), facecolor='0.6',edgecolor='none')\n",
    "    return d"
   ]
  },
  {
   "cell_type": "markdown",
   "metadata": {},
   "source": [
    "Let's try if for $N=1$."
   ]
  },
  {
   "cell_type": "code",
   "execution_count": null,
   "metadata": {
    "collapsed": false
   },
   "outputs": [],
   "source": [
    "d = plot_one_with_sigma(0.0,1.0,1)"
   ]
  },
  {
   "cell_type": "markdown",
   "metadata": {},
   "source": [
    "Now let's make $\\mu=4$, $\\sigma=1$, and shade the region $\\mu\\pm2\\sigma$."
   ]
  },
  {
   "cell_type": "code",
   "execution_count": null,
   "metadata": {
    "collapsed": false
   },
   "outputs": [],
   "source": [
    "d = plot_one_with_sigma(4.0,1.0,2)"
   ]
  },
  {
   "cell_type": "markdown",
   "metadata": {},
   "source": [
    "Another convenient measure of the width is the *Full-Width-Half-Max* (FWHM):\n",
    "\n",
    "    1. Draw a horizontal line halfway between 0 and the maximum value of the distribution.\n",
    "    \n",
    "    2. The width of the region in which this horizontal line is under the curve is the (FWHM)."
   ]
  },
  {
   "cell_type": "code",
   "execution_count": null,
   "metadata": {
    "collapsed": false
   },
   "outputs": [],
   "source": [
    "d = plot_one_with_sigma(4.0,1.0,1)\n",
    "half_max = 0.5*d.pdf(d.mean())\n",
    "plt.axhline(half_max,0,1,linestyle=':',color='red')"
   ]
  },
  {
   "cell_type": "markdown",
   "metadata": {},
   "source": [
    "<i class=\"fa fa-pencil\" style=\"color:red; font-size:1.5em\"></i> **Question:** (edit this cell to provide an answer)  How does the FWHM compare to $\\sigma$?"
   ]
  },
  {
   "cell_type": "markdown",
   "metadata": {},
   "source": [
    "The probability that $x$ lies between two values, call them $x_L$ and $x_H$, is given by the integral over the distribution:\n",
    "\\begin{equation}\n",
    "p(x_L < x < x_H) = \\int_{x_L}^{x_H} \\prob{x}\\,\\dif x\n",
    "\\end{equation}\n",
    "Thus, the probability that $x$ is within one standard deviation of the mean, $p(\\mu-\\sigma < x < \\mu + \\sigma)$, is the shaded area in the following plot."
   ]
  },
  {
   "cell_type": "code",
   "execution_count": null,
   "metadata": {
    "collapsed": false
   },
   "outputs": [],
   "source": [
    "d = plot_one_with_sigma(3.0,2.0,1)"
   ]
  },
  {
   "cell_type": "markdown",
   "metadata": {},
   "source": [
    "The shaded region has 68% of the total area under the curve.  In other words, if our measurement error follows a normal distribution, then if we make repeated measurements 68% of them will lie within one standard deviation of the mean."
   ]
  },
  {
   "cell_type": "code",
   "execution_count": null,
   "metadata": {
    "collapsed": true
   },
   "outputs": [],
   "source": []
  }
 ],
 "metadata": {
  "anaconda-cloud": {},
  "kernelspec": {
   "display_name": "Python 3",
   "language": "python",
   "name": "python3"
  },
  "language_info": {
   "codemirror_mode": {
    "name": "ipython",
    "version": 3
   },
   "file_extension": ".py",
   "mimetype": "text/x-python",
   "name": "python",
   "nbconvert_exporter": "python",
   "pygments_lexer": "ipython3",
   "version": "3.6.4"
  }
 },
 "nbformat": 4,
 "nbformat_minor": 2
}

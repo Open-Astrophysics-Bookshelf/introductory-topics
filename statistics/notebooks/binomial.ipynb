{
 "cells": [
  {
   "cell_type": "markdown",
   "metadata": {},
   "source": [
    "# The binomial distribution\n",
    "\n",
    "This notebook contains some tools that you will find useful when doing exercises 6 and 7 of the handout *Probability and Statistics*. For convenience, we reproduce the exercises here.\n",
    "$\\newcommand{\\binom}[3]{\\mathcal{B}_{#1}(#2;#3)}\\newcommand{\\prob}{\\mathcal{P}}$\n",
    "\n",
    "**6.** Compute $\\binom{20}{m}{p}$ for $m = 0\\ldots20$ and $p= 1/2$.  What is the probability of getting 9, 10, or 11 heads?  What is the probability of getting between 7 and 13 heads?\n",
    "\n",
    "**7.** A student takes an exam with 10 multiple choice questions, each with 4 possible responses.  Suppose the student guesses randomly for each question.  What is the probability the student gets 5 or more correct?\n",
    "\n",
    "To go through the notebook, click in each cell in order and hit `shift-return`."
   ]
  },
  {
   "cell_type": "markdown",
   "metadata": {},
   "source": [
    "## Set up your notebook\n",
    "First, we'll define our notebook to be compatible with Python 3, inline any plots, and import the numpy and matplotlib libraries."
   ]
  },
  {
   "cell_type": "code",
   "execution_count": null,
   "metadata": {
    "collapsed": false
   },
   "outputs": [],
   "source": [
    "%matplotlib inline\n",
    "import numpy as np\n",
    "import matplotlib.pyplot as plt"
   ]
  },
  {
   "cell_type": "code",
   "execution_count": null,
   "metadata": {
    "collapsed": false
   },
   "outputs": [],
   "source": [
    "from scipy.stats import binom"
   ]
  },
  {
   "cell_type": "markdown",
   "metadata": {},
   "source": [
    "The class `binom` can do quite a bit; try the following command to get a listing of its capabilities. We've already set up a few examples, so once you've looked over the help, scroll down to get started!"
   ]
  },
  {
   "cell_type": "code",
   "execution_count": null,
   "metadata": {
    "collapsed": false
   },
   "outputs": [],
   "source": [
    "help(binom)"
   ]
  },
  {
   "cell_type": "markdown",
   "metadata": {},
   "source": [
    "## Testing the distribution\n",
    "\n",
    "If we flip a coin 4 times, we can calculate the distribution easily by hand: $\\binom{4}{0}{1/2} = 1/16, \\binom{4}{1}{1/2} = 1/4, \\binom{4}{2}{1/2} = 3/8, \\binom{4}{3}{1/2} = 1/4, \\binom{4}{4}{1/2} = 1/16$.  Let's test our binomial class; according to the help, to get the probability for $k$ events, each with individual probability $p$, out of $n$ trials, we use `binom.pmf(k,n,p)`.  Let's try it for $k=2,n=4,p=1/2$."
   ]
  },
  {
   "cell_type": "code",
   "execution_count": null,
   "metadata": {
    "collapsed": false
   },
   "outputs": [],
   "source": [
    "binom.pmf(2,4,0.5)"
   ]
  },
  {
   "cell_type": "markdown",
   "metadata": {},
   "source": [
    "Pretty good!  Let's try it for all 5 cases ($k = 0,1,2,3,4$).  To do this we shall make use of a loop: the code\n",
    "```python\n",
    "for k in range(5):\n",
    "    print(k,binom.pmf(k,4,0.5)\n",
    "```\n",
    "means execute the statement `print(k,binom.pmf(k,4,0.5))` a total of five times; first with `k=0`, then with `k=1`, then with `k=2`, `3`, and `4`.  Did you notice that in Python arrays of numbers start with 0?  Thus `range(5)` returns 5 numbers going from 0 to 4, **not** 1 to 5."
   ]
  },
  {
   "cell_type": "code",
   "execution_count": null,
   "metadata": {
    "collapsed": false
   },
   "outputs": [],
   "source": [
    "for k in range(5):\n",
    "    print(k,binom.pmf(k,4,0.5))"
   ]
  },
  {
   "cell_type": "markdown",
   "metadata": {},
   "source": [
    "Looks good! Now back to problem **6**."
   ]
  },
  {
   "cell_type": "markdown",
   "metadata": {},
   "source": [
    "## Computing the binomial distibution for $n=20$\n",
    "\n",
    "For exercise 6, we are asked to compute $\\binom{20}{m}{p}$ for $m=0,\\ldots,20$ and $p = 1/2$.  Now we just need to extend our loop with `range(21)`."
   ]
  },
  {
   "cell_type": "code",
   "execution_count": null,
   "metadata": {
    "collapsed": false
   },
   "outputs": [],
   "source": [
    "for m in range(21):\n",
    "    print(m,binom.pmf(m,20,0.5))"
   ]
  },
  {
   "cell_type": "markdown",
   "metadata": {},
   "source": [
    "This is okay, but hard to read.  Can we make the table look nicer?\n",
    "\n",
    "Yes we can!  Our table is two columns. The first column is 2 digits wide.  Then we have a space, and a floating point number.  Because of the huge range of values, let's use exponential notation for the probability.  If we have 2 digits after the decimal point, then our number will have the form `d.ddeddd` which is 8 characters wide.\n",
    "\n",
    "To enforce this formatting we use the following line\n",
    "```python\n",
    "        print('{0:2d}  {1:8.2e}'.format(m,binom.pmf(m,20,0.5)))\n",
    "```\n",
    "What the `{}` and the `.format()` do is to substitute the arguments of `format` (in this case `m` and `binom.pmf(m,20,0.5)`) into the braces labeled `{0}` and `{1}`.  The `:2d` following the `0` in the first set of braces means print the `m` as an integer (this is what `d` means, *digits*) so that it takes up 2 spaces.  The `:8.2e` following the `1` in the second set of braces means print `binom.pmf(m,20,0.5)` in exponential notation (this is what the `e` signifies) with a total width of 8 spaces and a precision of 2 digits after the decimal point (the `8.2`).\n",
    "\n",
    "Finally, we want our table to have a header.  Before we run the loop, we add the lines\n",
    "```python\n",
    "    print(' m   P_20(m)')\n",
    "    print('--  --------')\n",
    "```\n",
    "to print out a header for the table."
   ]
  },
  {
   "cell_type": "code",
   "execution_count": null,
   "metadata": {
    "collapsed": false
   },
   "outputs": [],
   "source": [
    "print(' m   B_20(m)')\n",
    "print('--  --------')\n",
    "for m in range(21):\n",
    "    print('{0:2d}  {1:8.2e}'.format(m,binom.pmf(m,20,0.5)))"
   ]
  },
  {
   "cell_type": "markdown",
   "metadata": {},
   "source": [
    "**Exercise:** Change the `8.2e` to `8.6f` (`f` stands for *floating point*) in the cell above and re-run.  Does the output make sense?"
   ]
  },
  {
   "cell_type": "markdown",
   "metadata": {},
   "source": [
    "**Double-click in this box and type your answer:**\n"
   ]
  },
  {
   "cell_type": "markdown",
   "metadata": {},
   "source": [
    "It's convenient to store our numbers in an array.  The following three lines create an array with 21 elements, each one being $\\binom{20}{m}{1/2}, m=1,\\ldots,20$."
   ]
  },
  {
   "cell_type": "code",
   "execution_count": null,
   "metadata": {
    "collapsed": true
   },
   "outputs": [],
   "source": [
    "p20 = np.zeros(21)\n",
    "for m in range(21):\n",
    "    p20[m] = binom.pmf(m,20,0.5)"
   ]
  },
  {
   "cell_type": "markdown",
   "metadata": {},
   "source": [
    "For example, what is the probability of getting either 8 or 9 heads?  Since those two events are mutually exclusive, we use our rule\n",
    "\\begin{equation}\n",
    "\\prob_{20}(\\textrm{8 or 9}) = \\binom{20}{8}{1/2} + \\binom{20}{9}{1/2}.\n",
    "\\end{equation}"
   ]
  },
  {
   "cell_type": "code",
   "execution_count": null,
   "metadata": {
    "collapsed": false
   },
   "outputs": [],
   "source": [
    "p20[8]+p20[9]"
   ]
  },
  {
   "cell_type": "markdown",
   "metadata": {},
   "source": [
    "**Exercise**: compute the probability of getting 9, 10, or 11 heads.  Then compute the probability of getting between 7 and 13 heads."
   ]
  },
  {
   "cell_type": "code",
   "execution_count": null,
   "metadata": {
    "collapsed": false
   },
   "outputs": [],
   "source": [
    "# HINT: What do you think this does?  Note the notation p20[8:10] means start at p20[8] keeping \n",
    "# the index less than 10.\n",
    "p20[8:10].sum()"
   ]
  },
  {
   "cell_type": "markdown",
   "metadata": {},
   "source": [
    "Let's plot our distribution. `matplotlib.pyplot.plot` can be told to make steps (the `drawstyle` argument)."
   ]
  },
  {
   "cell_type": "code",
   "execution_count": null,
   "metadata": {
    "collapsed": false
   },
   "outputs": [],
   "source": [
    "# make m a \"linear space\" (an array) with 21 elements ranging from 0 to 20.\n",
    "m = np.linspace(0.0,20.0,21)\n",
    "plt.plot(m,p20,drawstyle='steps-mid')\n",
    "plt.xlabel('m')\n",
    "plt.ylabel('P(m) for 20 trials')"
   ]
  },
  {
   "cell_type": "markdown",
   "metadata": {},
   "source": [
    "**Exercise:** Now use our `binom.pmf` function to do exercise 7,\n",
    "\n",
    ">A student takes an exam with 10 multiple choice questions, each with 4 possible responses.  Suppose the student guesses randomly for each question.  What is the probability the student gets 5 or more correct?\n",
    "\n",
    "*Hint:* What is $p$, the probability of getting an answer correct for a single question, in this case?\n",
    "\n",
    "Do your calculations in this notebook in the following cell."
   ]
  },
  {
   "cell_type": "code",
   "execution_count": null,
   "metadata": {
    "collapsed": false
   },
   "outputs": [],
   "source": []
  }
 ],
 "metadata": {
  "kernelspec": {
   "display_name": "Python 3",
   "language": "python",
   "name": "python3"
  },
  "language_info": {
   "codemirror_mode": {
    "name": "ipython",
    "version": 3
   },
   "file_extension": ".py",
   "mimetype": "text/x-python",
   "name": "python",
   "nbconvert_exporter": "python",
   "pygments_lexer": "ipython3",
   "version": "3.6.4"
  }
 },
 "nbformat": 4,
 "nbformat_minor": 2
}

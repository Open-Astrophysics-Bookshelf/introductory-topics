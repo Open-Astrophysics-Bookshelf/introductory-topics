{
 "cells": [
  {
   "cell_type": "markdown",
   "metadata": {},
   "source": [
    "# Measurements with normally-distributed fluctuations\n",
    "In this notebook, we explore what happens when we make a number of measurements that follow a *normal* (ie, Gaussian) distribution with a given mean $\\mu$ and standard deviation $\\sigma$.\n",
    "\n",
    "To follow along, click on each cell and the press `shift-return`.  Don't worry if you don't understand all of the code; the point of this exercise is to look at some numerical experiments, not to learn `Python`.\n",
    "\n",
    "There are several questions for you to answer in this workbook.  Look for the text, \"**Double-click in this box and type your answer:**\".  Do just that: double-click on the text, and then type your answer in the box.  Don't forget to save your work!  When you are finished, upload your notebook into the dropbox on [D2L](https://d2l.msu.edu/)."
   ]
  },
  {
   "cell_type": "markdown",
   "metadata": {},
   "source": [
    "## Set up your work environment\n",
    "First, we need to set up our work environment.  We'll import the `numpy` and `matplotlib.pyplot` modules, and tell ipython that we want our plots to be inline."
   ]
  },
  {
   "cell_type": "code",
   "execution_count": null,
   "metadata": {
    "collapsed": false
   },
   "outputs": [],
   "source": [
    "from __future__ import print_function, division\n",
    "%matplotlib inline\n",
    "import numpy as np\n",
    "import matplotlib.pyplot as plt"
   ]
  },
  {
   "cell_type": "markdown",
   "metadata": {},
   "source": [
    "For this exercise I wrote a module called `measurements`. This module contains a bit of code,\n",
    "called `measurementWithUncertainty`, that will supply random numbers that follow a normal distribution.  That is, if you used this tool to generate a great many random numbers and plotted a histogram, it would appear gaussian with a certain mean and standard deviation.  BTW, the mean and standard deviation are chosen at random: you can compare your results to those of a classmate to see how different distributions look.\n",
    "\n",
    "Run the following cell to load the module."
   ]
  },
  {
   "cell_type": "code",
   "execution_count": null,
   "metadata": {
    "collapsed": false
   },
   "outputs": [],
   "source": [
    "# %load measurements.py\n",
    "################################################################################\n",
    "# Edward Brown\n",
    "# Michigan State University\n",
    "#\n",
    "# a simple class to make a measurement with gaussian uncertainties.\n",
    "#\n",
    "################################################################################\n",
    "from __future__ import print_function, division\n",
    "import numpy as np\n",
    "import numpy.random as nr\n",
    "\n",
    "class measurementWithUncertainty(object):\n",
    "    \"\"\"\n",
    "    Upon initialization, generates a normal (gaussian) distribution with a mean \n",
    "    in the range [10.0,20.0] and a standard deviation in the range [1.0,2.0].   \n",
    "    The mean and standard deviation are themselves chosen at random.\n",
    "    \n",
    "    Example\n",
    "    -------\n",
    "    \n",
    "        >>> from measurements import measurementWithUncertainty\n",
    "        >>> d = measurementWithUncertainty()\n",
    "        made data  12.492 +/-   1.12\n",
    "        >>> x = d.make_measurements(10)\n",
    "        >>> print(x)\n",
    "        [ 13.85981811  11.70694115  10.28276517  12.41290813  11.7629273\n",
    "          11.5970737   10.06126323  13.05767109  13.45734073  12.21781776]\n",
    "        >>> print(d.mean\n",
    "        12.4922289309\n",
    "        >>> print(d.stddev)\n",
    "        1.12196280663\n",
    "        \n",
    "    Here the call to make_measurements(N) generates N measurements chosen \n",
    "    randomly from this distribution.\n",
    "    \"\"\"\n",
    "    \n",
    "    _sample_low = 10.0\n",
    "    _sample_high = 20.0\n",
    "    _stddev_bias = 1.0\n",
    "    \n",
    "    def __init__(self):\n",
    "        \"\"\"\n",
    "        Sets the mean and standard deviation of our sample.\n",
    "        \"\"\"\n",
    "        a = self._sample_low\n",
    "        b = self._sample_high\n",
    "        self.mean = (b-a)*nr.random() + a\n",
    "        self.stddev = nr.random() + self._stddev_bias\n",
    "        print('made a gaussian distribution with mean {0:7.3f} and std. dev. {1:6.3}'.\\\n",
    "              format(self.mean,self.stddev))\n",
    "\n",
    "    def make_measurements(self,n):\n",
    "        \"\"\"\n",
    "        Returns a set of measurements drawn from distribution. Called with  \n",
    "        argument n, the number of desired measurements.\n",
    "        \"\"\"\n",
    "        return nr.normal(loc=self.mean,scale=self.stddev,size=n)\n",
    "\n",
    "    @property\n",
    "    def mean(self):\n",
    "        \"\"\"\n",
    "        Returns the mean of the distribution.  Note that this returns the \n",
    "        parameter in the distribution.  and *not* the average of a set of \n",
    "        numbers drawn from the  distribution.\n",
    "        \"\"\"\n",
    "        return self._mean\n",
    "    \n",
    "    @mean.setter\n",
    "    def mean(self,value):\n",
    "        self._mean = value\n",
    "    \n",
    "    @property\n",
    "    def stddev(self):\n",
    "        \"\"\"\n",
    "        Returns the standard deviation of the distribution. Note that this  \n",
    "        returns the parameter in the distribution, and *not* the variance of a \n",
    "        set of numbers drawn from the  distribution.\n",
    "        \"\"\"\n",
    "        return self._stddev\n",
    "    \n",
    "    @stddev.setter\n",
    "    def stddev(self,value):\n",
    "        self._stddev = value\n"
   ]
  },
  {
   "cell_type": "markdown",
   "metadata": {},
   "source": [
    "The code\n",
    "```python\n",
    "class measurementWithUncertainty:\n",
    "```\n",
    "allows us to define an *object* called `measurementWithUncertainty`.  The various functions in this module, like `make_measurements` do things with this class.  First, let's define an object."
   ]
  },
  {
   "cell_type": "code",
   "execution_count": null,
   "metadata": {
    "collapsed": false
   },
   "outputs": [],
   "source": [
    "d = measurementWithUncertainty()"
   ]
  },
  {
   "cell_type": "markdown",
   "metadata": {},
   "source": [
    "Make a note of the mean and std. dev. of this distribution; you will need them later.\n",
    "\n",
    "Now have a gaussian distribution $d$ with a given mean and uncertainty, let's generate a set of 10 data points $x_i, i=1,\\ldots,10$ from this distribution, and compute their average\n",
    "\\begin{equation*}\n",
    "\\langle x\\rangle = \\frac{1}{N} \\sum_{i=1}^{10} x_i\n",
    "\\end{equation*}\n",
    "and variance\n",
    "\\begin{equation*}\n",
    "s =  \\left[\\frac{1}{N} \\sum_{i=1}^{N} \\left(x_i - \\langle x\\rangle\\right)^2\\right]^{1/2} =  \\sqrt{\\langle x^2\\rangle - \\langle x\\rangle^2}\n",
    "\\end{equation*}\n",
    "of these 10 datapoints."
   ]
  },
  {
   "cell_type": "code",
   "execution_count": null,
   "metadata": {
    "collapsed": false
   },
   "outputs": [],
   "source": [
    "x = d.make_measurements(10)\n",
    "xbar = np.average(x)\n",
    "x2bar = np.average(x**2)\n",
    "s = np.sqrt(x2bar - xbar**2)\n",
    "print('mean(x) = {0:7.3f}; variance(x) = {1:7.3f}'.format(xbar,s))\n",
    "print('compare with mu = {0:7.3f}; sigma = {1:7.3f}'.format(d.mean,d.stddev))"
   ]
  },
  {
   "cell_type": "markdown",
   "metadata": {},
   "source": [
    "The average and variance computed from our dataset are close, but not equal to the true mean and standard deviation of our gaussian distribution."
   ]
  },
  {
   "cell_type": "markdown",
   "metadata": {},
   "source": [
    "**Exercise:** What would happen to `mean(z)` and `std. dev. (z)` if we repeated the cell above with `z = d.make_measurements(100)`?  What about with 1000 or 10000 measurements?  Predict what would happen, and then try it.  Describe in this box what you find."
   ]
  },
  {
   "cell_type": "markdown",
   "metadata": {},
   "source": [
    "## Make many datasets, and compute their statistics\n",
    "We're now ready to explore how the statistical measures of a dataset relate to the underlying distribution. What we are going to do is repeatedly make datasets of `Nmeasures = 10` measurements—just as before—and take the average and variance of each dataset.\n",
    "\n",
    "For each dataset we shall also compute\n",
    "\\begin{equation*}\n",
    "\\chi^2 = \\sum_{i=1}^{N} \\frac{\\left(x_i-\\mu\\right)^2}{\\sigma^2}\n",
    "\\end{equation*}\n",
    "(pronounced \"khi-square\") where $\\mu$ and $\\sigma$ are the true mean and standard deviation, which we access with `d.mean` and `d.stddev`.\n",
    "\n",
    "We will make `Ntrials = 1000` datasets, and we'll examine the distributions of $\\langle x\\rangle$, $s^2$, and $\\chi^2$.  To start, let's first make some arrays — `xbar`, `s2`, and `chi2` — to hold these values.  The `numpy` routine `zeros` will generate such an array and initialize it to zero.  We also will make a giant array `xall` to hold *all* `Ntrials*Nmeasures=10000` of the measurements."
   ]
  },
  {
   "cell_type": "code",
   "execution_count": null,
   "metadata": {
    "collapsed": false
   },
   "outputs": [],
   "source": [
    "Nmeasures = 10\n",
    "Ntrials = 1000\n",
    "xbar = np.zeros(Ntrials)\n",
    "s2 = np.zeros(Ntrials)\n",
    "chi2 = np.zeros(Ntrials)\n",
    "xall = np.zeros(Ntrials*Nmeasures)"
   ]
  },
  {
   "cell_type": "markdown",
   "metadata": {},
   "source": [
    "Now let's run our trials.  The following block of code is a *loop*.\n",
    "```python\n",
    "    for i in range(Ntrials):\n",
    "        x = d.make_measurements(Nmeasures)\n",
    "        xbar[i] = np.average(x)\n",
    "        x2bar = np.average(x**2)\n",
    "        s2[i] = x2bar-xbar[i]**2\n",
    "        q2 = (x-d.mean)**2/(d.stddev)**2\n",
    "        chi2[i] = np.sum(q2)\n",
    "        xall[i*10:i*10+10] = x\n",
    "```\n",
    "The first line,\n",
    "```python\n",
    "    for i in range(Ntrials):\n",
    "```\n",
    "means that we are going to repeat the following indented lines `Ntrials` times.  The variable `i` is a counter: the first time through the loop, `i = 0`; the next time, `i=1`, and so on until the 1000th time through the loop, when `i = 999`.\n",
    "\n",
    "The next line\n",
    "```python\n",
    "        x = d.make_measurements(Nmeasures)\n",
    "```     \n",
    "generates an array, `x`, that contains our set of 10 measurements *for this trial*.\n",
    "Next we'll compute the average of $x$ and $x^2$, followed by the variance $s^2$.\n",
    "```python\n",
    "        xbar[i] = np.average(x)\n",
    "        x2bar = np.average(x**2)\n",
    "        s2[i] = x2bar-xbar[i]**2\n",
    "```\n",
    "Last, we'll compute an array `q2`, with each element holding the value $(x_i-\\mu)^2/\\sigma^2$, and then we'll sum up the elements of `q2` to get $\\chi^2$ for this trial.\n",
    "```python\n",
    "        q2 = (x-d.mean)**2/(d.stddev)**2\n",
    "        chi2[i] = np.sum(q2)\n",
    "```\n",
    "Finally, we'll store these numbers in `xall`.  The line\n",
    "```python\n",
    "        xall[i*10:i*10+10] = x\n",
    "```\n",
    "means to put the 10 elements of `x` in the slots in `xall` starting from `i*10` to `i*10 + 9`.  So on the first trip through the loop, `x` is stored in `xall[0]...xall[9]`; on the second trip `x` is stored in `xall[10]...xall[19]`; and so on."
   ]
  },
  {
   "cell_type": "code",
   "execution_count": null,
   "metadata": {
    "collapsed": false
   },
   "outputs": [],
   "source": [
    "for i in range(Ntrials):\n",
    "    x = d.make_measurements(Nmeasures)\n",
    "    xbar[i] = np.average(x)\n",
    "    x2bar = np.average(x**2)\n",
    "    s2[i] = x2bar-xbar[i]**2\n",
    "    q2 = (x-d.mean)**2/(d.stddev)**2\n",
    "    chi2[i] = np.sum(q2)\n",
    "    xall[i*10:i*10+10] = x"
   ]
  },
  {
   "cell_type": "markdown",
   "metadata": {},
   "source": [
    "## Analyze the results\n",
    "Now let's look at our trials! We'll first plot this distribution of all points, `xall`, along with the `Ntrials=1000` individual estimates of the mean from our dataset.  To put both plots on the same footing, we call `plt.hist` with `normed=True`, which scales the plots to the area under each curve is one.  The histogram labeled $x$ is all 10000 points, while the curve labeled $\\langle x\\rangle$ is the distribution of the 1000 different averages that we computed."
   ]
  },
  {
   "cell_type": "code",
   "execution_count": null,
   "metadata": {
    "collapsed": false
   },
   "outputs": [],
   "source": [
    "plt.hist([xall,xbar],bins=50,normed=True,histtype='step')\n",
    "plt.legend((r'$\\langle x\\rangle$',r'$x$'))\n",
    "plt.xlabel(r'$x$')\n",
    "plt.ylabel(r'$N$')"
   ]
  },
  {
   "cell_type": "markdown",
   "metadata": {},
   "source": [
    "**Exercise:** Are the distributions for $x$ and $\\langle x\\rangle$ as expected?  Explain why or why not.  How do their means and widths compare with the \"true\" values of the distribution?"
   ]
  },
  {
   "cell_type": "markdown",
   "metadata": {},
   "source": [
    "**Double-click in this box and type your answer:**\n"
   ]
  },
  {
   "cell_type": "markdown",
   "metadata": {},
   "source": [
    "Next we'll plot the distribution of $s^2$.  For convenience, we'll divide by $\\sigma^2$; that is, if $s^2 = \\sigma^2$, then the distribution will peak at 1. We'll print the actual value of $s^2/\\sigma^2$ on the plot."
   ]
  },
  {
   "cell_type": "code",
   "execution_count": null,
   "metadata": {
    "collapsed": false
   },
   "outputs": [],
   "source": [
    "sigma2 = d.stddev**2\n",
    "plt.hist(s2/sigma2,bins=50,histtype='step')\n",
    "plt.xlabel(r'$s^2/\\sigma^2$')\n",
    "plt.ylabel(r'$N$')\n",
    "s2bar = np.average(s2)\n",
    "desc = r'$\\langle s^2\\rangle/\\sigma^2 = {0:6.2f}$'.format(s2bar/sigma2)\n",
    "plt.annotate(s=desc,xy=(0.7,0.8),xycoords='figure fraction')"
   ]
  },
  {
   "cell_type": "markdown",
   "metadata": {},
   "source": [
    "**Exercise:** Is the value of $\\langle s^2\\rangle/\\sigma^2$ what you expect? Explain why or why not."
   ]
  },
  {
   "cell_type": "markdown",
   "metadata": {},
   "source": [
    "**Double-click in this box and type your answer:**\n"
   ]
  },
  {
   "cell_type": "markdown",
   "metadata": {},
   "source": [
    "Finally, let's plot the distribution of $\\chi^2$.  As before, we'll write the value of $\\langle\\chi^2\\rangle$ on the plot."
   ]
  },
  {
   "cell_type": "code",
   "execution_count": null,
   "metadata": {
    "collapsed": false
   },
   "outputs": [],
   "source": [
    "plt.hist(chi2,bins=50,histtype='step')\n",
    "plt.xlabel(r'$\\chi^2$')\n",
    "plt.ylabel(r'$N$')\n",
    "chi2bar = np.average(chi2)\n",
    "desc = r'$\\langle\\chi^2\\rangle = {0:6.2f}$'.format(chi2bar)\n",
    "plt.annotate(s=desc,xy=(0.7,0.8),xycoords='figure fraction')"
   ]
  },
  {
   "cell_type": "markdown",
   "metadata": {},
   "source": [
    "**Exercise:** Describe the distribution of $\\chi^2$.  Does the mean value of $\\chi^2$ make sense to you? Explain why or why not."
   ]
  },
  {
   "cell_type": "markdown",
   "metadata": {},
   "source": [
    "**Double-click in this box and type your answer:**\n"
   ]
  }
 ],
 "metadata": {
  "kernelspec": {
   "display_name": "Python 3",
   "language": "python",
   "name": "python3"
  },
  "language_info": {
   "codemirror_mode": {
    "name": "ipython",
    "version": 3
   },
   "file_extension": ".py",
   "mimetype": "text/x-python",
   "name": "python",
   "nbconvert_exporter": "python",
   "pygments_lexer": "ipython3",
   "version": "3.6.4"
  }
 },
 "nbformat": 4,
 "nbformat_minor": 2
}

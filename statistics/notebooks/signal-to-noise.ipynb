{
 "cells": [
  {
   "cell_type": "markdown",
   "metadata": {},
   "source": [
    "# Extracting a signal from a noisy dataset\n",
    "\n",
    "In this worksheet, we'll look at how a weak signal can be extracted from a noisy background. To extract the signal, we use the property of Poisson fluctuations that the standard deviation for a measurement $\\lambda$ is $\\sigma = \\sqrt{\\lambda}$.  For background reading, consult section 6.5 of Ryden & Peterson.\n",
    "\n",
    "We begin by setting up our work environment."
   ]
  },
  {
   "cell_type": "code",
   "execution_count": null,
   "metadata": {
    "collapsed": true
   },
   "outputs": [],
   "source": [
    "from __future__ import print_function, division\n",
    "%matplotlib inline\n",
    "import matplotlib.pyplot as plt\n",
    "import numpy as np"
   ]
  },
  {
   "cell_type": "markdown",
   "metadata": {},
   "source": [
    "We'll also define a custom class of tools `noisySignal`. `Shift-click` in the following cell to initialize this class.  Don't worry if you aren't familiar with all of the code in this cell—we will just be using it."
   ]
  },
  {
   "cell_type": "code",
   "execution_count": null,
   "metadata": {
    "collapsed": false
   },
   "outputs": [],
   "source": [
    "# %load noisy_signal.py\n",
    "################################################################################\n",
    "# Edward Brown\n",
    "# Michigan State University\n",
    "#\n",
    "# Generates a signal with Poisson noise\n",
    "#\n",
    "################################################################################\n",
    "\n",
    "class noisySignal:\n",
    "    \n",
    "    \"\"\"\n",
    "    Constructs a dataset consisting of a gaussian signal and a constant \n",
    "    noise level.  The dataset then consists of a net intensity (signal+noise) \n",
    "    drawn from a poisson distribution with that net intensity.\n",
    "    \"\"\"\n",
    "    \n",
    "    from numpy.random import poisson\n",
    "    from numpy import exp\n",
    "        \n",
    "    def __init__(self,background=3.0,signal=1.0,center=5.0,width=3.0):\n",
    "        \"\"\"\n",
    "        sets the noise amplitude, signal amplitude, and signal width.\n",
    "        \"\"\"\n",
    "        self._background_amplitude = background\n",
    "        self._signal_amplitude = signal\n",
    "        self._signal_width = width\n",
    "        self._signal_center = center\n",
    "\n",
    "    def make_dataset(self,t):\n",
    "        \"\"\"\n",
    "        Generates the dataset\n",
    "        \n",
    "        Parameters\n",
    "        ----------\n",
    "            t   := [array-like] points in time where data is collected\n",
    "            \n",
    "        Returns\n",
    "        -------\n",
    "            Array of Poisson-limited signal + noise\n",
    "        \"\"\"\n",
    "        s = self.poisson(lam=self.signal(t),size=t.size)\n",
    "        s += self.poisson(lam=self.background(),size=t.size)\n",
    "        # now for each t, draw from Poisson with mean s\n",
    "        return s\n",
    "        \n",
    "    def signal(self,t):\n",
    "        \"\"\"\n",
    "        Generates the signal.\n",
    "        \n",
    "        Parameters\n",
    "        ----------\n",
    "            t   := [array-like] points in time where data is collected\n",
    "            \n",
    "        Returns\n",
    "        -------\n",
    "            Array of signal values, before application of Poisson statistics\n",
    "        \"\"\"\n",
    "        a = self._signal_amplitude\n",
    "        tau = self._signal_width\n",
    "        mu = self._signal_center\n",
    "        return a*self.exp(-(t-mu)**2/2.0/tau**2)\n",
    "    \n",
    "    def make_background(self,t):\n",
    "        \"\"\"\n",
    "        Generates background with Poisson fluctuations.\n",
    "        \n",
    "        Parameters\n",
    "        ----------\n",
    "            t   := [array-like] points in time where data is collected\n",
    "            \n",
    "        Returns\n",
    "        -------\n",
    "            Array of Poisson noise\n",
    "        \"\"\"\n",
    "        s = self._background_amplitude\n",
    "        return self.poisson(lam=s,size=t.size)\n",
    "\n",
    "    def amplitude(self):\n",
    "        \"\"\"\n",
    "        Returns value of signal amplitude\n",
    "        \"\"\"\n",
    "        return self._signal_amplitude\n",
    "    \n",
    "    def width(self):\n",
    "        \"\"\"\n",
    "        Returns value of signal width\n",
    "        \"\"\"\n",
    "        return self._signal_width\n",
    "        \n",
    "    def center(self):\n",
    "        \"\"\"\n",
    "        Returns value of signal center\n",
    "        \"\"\"\n",
    "        return self._signal_center\n",
    "    \n",
    "    def background(self):\n",
    "        \"\"\"\n",
    "        Returns amplitude of noise\n",
    "        \"\"\"\n",
    "        return self._background_amplitude\n"
   ]
  },
  {
   "cell_type": "markdown",
   "metadata": {},
   "source": [
    "If you look in the cell above, you will see a function\n",
    "```python\n",
    "def __init__(self,background=3.0,signal=1.0,center=5.0,width=3.0):\n",
    "```\n",
    "This tells us how we create a new object of type `noisySignal`.  If we write\n",
    "```python\n",
    "sig = noisySignal()\n",
    "```\n",
    "we will generate a dataset `sig` with a background of 4.0 and a signal with amplitude 1.0, centered at $x=5$ with a width of 3.0.\n",
    "\n",
    "To adjust the parameters of the dataset, we'll write\n",
    "```python\n",
    "sig = noisySignal(background=2.0,signal=0.5,center=0.0,width=1.0)\n",
    "```\n",
    "and create a dataset `sig` that has a signal amplitude of 0.5 (`signal=0.5`) and a noise amplitude of 2.0 (`noise=2.0`).  That is, the \"background\" has an amplitude 4 times greater than our signal.  We'll center our \"image\" at $x=0$ (`center=0.0`) and give it a width of 1.0."
   ]
  },
  {
   "cell_type": "code",
   "execution_count": null,
   "metadata": {
    "collapsed": true
   },
   "outputs": [],
   "source": [
    "sig = noisySignal(background=2.0,signal=0.5,center=0.0,width=1.0)"
   ]
  },
  {
   "cell_type": "markdown",
   "metadata": {},
   "source": [
    "We'll then set `x` to contain an array of points at which we sample the signal. Our total field of view will go from -5.0 to 5.0, and we'll sample with 101 points."
   ]
  },
  {
   "cell_type": "code",
   "execution_count": null,
   "metadata": {
    "collapsed": false
   },
   "outputs": [],
   "source": [
    "x = np.linspace(-5.0,5.0,101)"
   ]
  },
  {
   "cell_type": "markdown",
   "metadata": {},
   "source": [
    "Here is a plot of the sigal and the background, but *without* any statistical fluctuations in photon counts."
   ]
  },
  {
   "cell_type": "code",
   "execution_count": null,
   "metadata": {
    "collapsed": false
   },
   "outputs": [],
   "source": [
    "plt.plot(x,sig.signal(x)+sig.background(),color='0.5',label='signal and background',drawstyle='steps-mid')\n",
    "plt.plot(x,sig.signal(x),color='red',label='signal',drawstyle='steps-mid')\n",
    "plt.hlines(sig.background(),x.min(),x.max(),linestyle='dotted')\n",
    "plt.xlim(-5,5)\n",
    "plt.ylim(-0.1,3.0)\n",
    "plt.xlabel('x')\n",
    "plt.ylabel('signal, background')\n",
    "plt.legend(frameon=False,loc='center left')"
   ]
  },
  {
   "cell_type": "markdown",
   "metadata": {},
   "source": [
    "Once we add in the (Poisson) fluctuations to the photon counts, however, the plots will look much different.\n",
    "\n",
    "Before proceeding, since we are going to be making a lot of plots of various datasets, it would be nice to avoid typing in the same code over and over. Let's define a function `nice_plot` to do this.  We'll also make a function to figure out the plot limits for us."
   ]
  },
  {
   "cell_type": "code",
   "execution_count": null,
   "metadata": {
    "collapsed": false
   },
   "outputs": [],
   "source": [
    "def plot_boundaries(x,y,margin=0.05):\n",
    "    x0, x1, y0, y1 = x.min(), x.max(), y.min(), y.max()\n",
    "    dx = x1-x0\n",
    "    dy = y1-y0\n",
    "    padx = dx*margin\n",
    "    pady = dy*margin\n",
    "    return x0-padx,x1+padx,y0-pady,y1+pady\n",
    "\n",
    "def nice_plot(x,y,xlabel='',ylabel='',title=''):\n",
    "    \"\"\"\n",
    "    Makes a plot of our image\n",
    "    \n",
    "    Arguments\n",
    "    ---------\n",
    "        x, y := points to be plotted\n",
    "        xlabel := label for the x-axis (default is nothing)\n",
    "        ylabel := label for the y-axis (default is nothing)\n",
    "        title  := title for the entire plot (default is nothing)\n",
    "    \"\"\"\n",
    "    \n",
    "    plt.xlabel(xlabel)\n",
    "    plt.ylabel(ylabel)\n",
    "    x0,x1,y0,y1 = plot_boundaries(x,y)\n",
    "    plt.xlim(x0,x1)\n",
    "    plt.ylim(y0,y1)\n",
    "    plt.title(title)\n",
    "    plt.plot(x,y,drawstyle='steps-mid')    "
   ]
  },
  {
   "cell_type": "markdown",
   "metadata": {},
   "source": [
    "By the way, you might be wondering what\n",
    "```python\n",
    "    \"\"\"\n",
    "    Makes a plot of our image\n",
    "    \n",
    "    Arguments\n",
    "    ---------\n",
    "        x, y := points to be plotted\n",
    "        xlabel := label for the x-axis (default is nothing)\n",
    "        ylabel := label for the y-axis (default is nothing)\n",
    "        title  := title for the entire plot (default is nothing)\n",
    "    \"\"\"\n",
    "```\n",
    "does. This lines between the `\"\"\"` is a *docstring*: a block of text describing our function.  It is very good practice to write these descriptions. `shift-click` in the next cell to see how these docstrings are used."
   ]
  },
  {
   "cell_type": "code",
   "execution_count": null,
   "metadata": {
    "collapsed": false
   },
   "outputs": [],
   "source": [
    "help(nice_plot)"
   ]
  },
  {
   "cell_type": "markdown",
   "metadata": {},
   "source": [
    "By writing these docstrings, you make it easier for collaborators to use your code!\n",
    "\n",
    "Now let's look at our data (signal and background, with Poisson fluctuations).  Can you see the signal?"
   ]
  },
  {
   "cell_type": "code",
   "execution_count": null,
   "metadata": {
    "collapsed": false
   },
   "outputs": [],
   "source": [
    "y = sig.make_dataset(x)\n",
    "nice_plot(x,y,xlabel='x',ylabel='intensity',title='data and background')"
   ]
  },
  {
   "cell_type": "markdown",
   "metadata": {},
   "source": [
    "Here is a plot of just the background. Compare with the plot `data and background` above.  Can you tell which is which?"
   ]
  },
  {
   "cell_type": "code",
   "execution_count": null,
   "metadata": {
    "collapsed": false
   },
   "outputs": [],
   "source": [
    "y = sig.make_background(x)\n",
    "nice_plot(x,y,xlabel='x',ylabel='intensity',title='pure backgound')"
   ]
  },
  {
   "cell_type": "markdown",
   "metadata": {},
   "source": [
    "## Repeated \"exposures\" to increase the signal-to-noise\n",
    "Now we'll simulate the effect of repeated exposures.  The random fluctuations will increase in size as $\\sqrt{N}$ whereas the signal will increase as $N$, where $N$ is the number of exposures.  As a result, given enough exposures, we ought to see the signal appear.\n",
    "\n",
    "The following function does the folding; the variable `n` stores the number of exposures $N$."
   ]
  },
  {
   "cell_type": "code",
   "execution_count": null,
   "metadata": {
    "collapsed": false
   },
   "outputs": [],
   "source": [
    "def take_exposures(x,n,ds):\n",
    "    \"\"\"\n",
    "    repeatedly sums datasets plots the results.\n",
    "    \n",
    "    Arguments\n",
    "    ---------\n",
    "    x := points at which the dataset is sampled\n",
    "    n := number of exposures\n",
    "    ds := <noisySignal> object to generate datasets\n",
    "    \"\"\"\n",
    "    y = np.zeros(x.size)\n",
    "    for ex in range(n):\n",
    "        y += ds.make_dataset(x)\n",
    "    nice_plot(x,y,xlabel='x',ylabel='intensity',title='N exposures = {0:<3d}'.format(n))"
   ]
  },
  {
   "cell_type": "markdown",
   "metadata": {},
   "source": [
    "Let's try it with 2 exposures."
   ]
  },
  {
   "cell_type": "code",
   "execution_count": null,
   "metadata": {
    "collapsed": false
   },
   "outputs": [],
   "source": [
    "take_exposures(x,2,sig)"
   ]
  },
  {
   "cell_type": "markdown",
   "metadata": {},
   "source": [
    "Not much improvement.  Let's try 3 exposures."
   ]
  },
  {
   "cell_type": "code",
   "execution_count": null,
   "metadata": {
    "collapsed": false
   },
   "outputs": [],
   "source": [
    "take_exposures(x,3,sig)"
   ]
  },
  {
   "cell_type": "markdown",
   "metadata": {},
   "source": [
    "Not much improvement yet: let's try 10 exposures.  Before doing this, **predict** the expected amplitude of the fluctuations and signal."
   ]
  },
  {
   "cell_type": "code",
   "execution_count": null,
   "metadata": {
    "collapsed": false
   },
   "outputs": [],
   "source": [
    "take_exposures(x,10,sig)"
   ]
  },
  {
   "cell_type": "markdown",
   "metadata": {},
   "source": [
    "Describe the amplitude of the fluctuations and signal amplitude for this case $N=10$. Show that it agrees with Poissonian statistics.\n",
    "\n",
    "**Enter your response in this cell**"
   ]
  },
  {
   "cell_type": "markdown",
   "metadata": {},
   "source": [
    "Hmm...let's keep increasing the number of exposures, with $N = 30, 100, 300$."
   ]
  },
  {
   "cell_type": "code",
   "execution_count": null,
   "metadata": {
    "collapsed": false
   },
   "outputs": [],
   "source": [
    "take_exposures(x,30,sig)"
   ]
  },
  {
   "cell_type": "code",
   "execution_count": null,
   "metadata": {
    "collapsed": false
   },
   "outputs": [],
   "source": [
    "take_exposures(x,100,sig)"
   ]
  },
  {
   "cell_type": "code",
   "execution_count": null,
   "metadata": {
    "collapsed": false
   },
   "outputs": [],
   "source": [
    "take_exposures(x,300,sig)"
   ]
  },
  {
   "cell_type": "markdown",
   "metadata": {},
   "source": [
    "Now the signal is apparent.\n",
    "\n",
    "From section 6.5 of Ryden & Peterson, what is the expected signal-to-noise $S/N$ for a background-limit signal for $N=30,100,300$? How does it compare with the three plots above?\n",
    "\n",
    "**Enter your response in this cell.**"
   ]
  },
  {
   "cell_type": "code",
   "execution_count": null,
   "metadata": {
    "collapsed": true
   },
   "outputs": [],
   "source": []
  }
 ],
 "metadata": {
  "kernelspec": {
   "display_name": "Python 2",
   "language": "python",
   "name": "python2"
  },
  "language_info": {
   "codemirror_mode": {
    "name": "ipython",
    "version": 2
   },
   "file_extension": ".py",
   "mimetype": "text/x-python",
   "name": "python",
   "nbconvert_exporter": "python",
   "pygments_lexer": "ipython2",
   "version": "2.7.6"
  }
 },
 "nbformat": 4,
 "nbformat_minor": 0
}

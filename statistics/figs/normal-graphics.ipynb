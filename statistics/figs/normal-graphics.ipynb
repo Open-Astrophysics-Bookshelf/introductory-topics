{
 "metadata": {
  "name": "",
  "signature": "sha256:16b4b2af4f7f1bbbae79aecaf6862febd550de3456a1b0995ffb72415cd7997e"
 },
 "nbformat": 3,
 "nbformat_minor": 0,
 "worksheets": [
  {
   "cells": [
    {
     "cell_type": "code",
     "collapsed": false,
     "input": [
      "%matplotlib inline\n",
      "import numpy as np\n",
      "import matplotlib.pyplot as plt"
     ],
     "language": "python",
     "metadata": {},
     "outputs": []
    },
    {
     "cell_type": "code",
     "collapsed": false,
     "input": [
      "from scipy.stats import norm"
     ],
     "language": "python",
     "metadata": {},
     "outputs": []
    },
    {
     "cell_type": "code",
     "collapsed": false,
     "input": [
      "n = norm(loc=0.0,scale=1.0)"
     ],
     "language": "python",
     "metadata": {},
     "outputs": []
    },
    {
     "cell_type": "code",
     "collapsed": false,
     "input": [
      "x = np.linspace(-3.0,3.0,121)"
     ],
     "language": "python",
     "metadata": {},
     "outputs": []
    },
    {
     "cell_type": "code",
     "collapsed": false,
     "input": [
      "y = n.pdf(x)/n.pdf(0.0)"
     ],
     "language": "python",
     "metadata": {},
     "outputs": []
    },
    {
     "cell_type": "code",
     "collapsed": false,
     "input": [
      "h1s = n.pdf(1.0)/n.pdf(0.0)\n",
      "h2s = n.pdf(2.0)/n.pdf(0.0)\n",
      "xm = np.linspace(-2.1,-0.5,2)\n",
      "ym = h1s*(xm+2.0)\n",
      "xp = np.linspace(0.5,2.1,2)\n",
      "yp = -h1s*(xp-2.0)"
     ],
     "language": "python",
     "metadata": {},
     "outputs": []
    },
    {
     "cell_type": "code",
     "collapsed": false,
     "input": [
      "charsize=14\n",
      "major_ticklength = 0.6*charsize\n",
      "major_tickwidth = 0.9   # points\n",
      "minor_ticklength = 0.3*charsize\n",
      "minor_tickwidth = 0.7   # points\n",
      "plt.tick_params(axis='both',\\\n",
      "    length=major_ticklength, width=major_tickwidth,which='major',labelsize=12)\n",
      "plt.tick_params(axis='both',\\\n",
      "    length=minor_ticklength,width=minor_tickwidth,which='minor',labelsize=10)\n",
      "\n",
      "plt.xlim(-3.0,3.0)\n",
      "plt.ylim(-0.1,1.1)\n",
      "plt.xlabel(r'$(x-\\mu)/\\sigma$',fontsize=14)\n",
      "plt.ylabel(r'$N(x)/N(0)$',fontsize=14)\n",
      "plt.plot(x,y,linewidth=2)\n",
      "plt.axhline(y=h1s,color='k',linestyle=':')\n",
      "plt.axhline(y=h2s,color='k',linestyle=':')\n",
      "plt.axhline(color='k',linestyle=':')\n",
      "plt.plot(xm,ym,color='r',linestyle='--',linewidth=3,dash_capstyle='round')\n",
      "plt.plot(xp,yp,color='r',linestyle='--',linewidth=3,dash_capstyle='round')\n",
      "plt.plot([-1,-1],[0.0,h1s],color='r',linestyle=':')\n",
      "plt.plot([1,1],[0.0,h1s],color='r',linestyle=':')\n",
      "plt.plot([-2,-2],[0.0,h2s],color='r',linestyle=':')\n",
      "plt.plot([2,2],[0.0,h2s],color='r',linestyle=':')\n",
      "plt.savefig('normal-drafting.pdf',format='pdf')"
     ],
     "language": "python",
     "metadata": {},
     "outputs": []
    },
    {
     "cell_type": "code",
     "collapsed": false,
     "input": [],
     "language": "python",
     "metadata": {},
     "outputs": []
    }
   ],
   "metadata": {}
  }
 ]
}
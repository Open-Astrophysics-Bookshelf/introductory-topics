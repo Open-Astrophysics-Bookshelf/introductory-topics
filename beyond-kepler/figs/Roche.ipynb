{
 "metadata": {
  "name": "",
  "signature": "sha256:5b4219cdbc05dc597d3de061006618b69b5a96645727b536746f6d19a89a0f88"
 },
 "nbformat": 3,
 "nbformat_minor": 0,
 "worksheets": [
  {
   "cells": [
    {
     "cell_type": "code",
     "collapsed": false,
     "input": [
      "%matplotlib inline\n",
      "import numpy as np\n",
      "import matplotlib.pyplot as plt"
     ],
     "language": "python",
     "metadata": {},
     "outputs": []
    },
    {
     "cell_type": "code",
     "collapsed": false,
     "input": [
      "def roche_pot(x,y,m1,m2,a):\n",
      "    # locate the points\n",
      "    mtot = m1+m2\n",
      "    x1 = -a*m2/mtot\n",
      "    x2 = a*m1/mtot\n",
      "    \n",
      "    r1 = np.sqrt((x-x1)**2 + y**2)\n",
      "    r2 = np.sqrt((x-x2)**2 + y**2)\n",
      "    rsq  = (x**2 + y**2)\n",
      "    \n",
      "    # rotation freq\n",
      "    w2 = mtot/a**3\n",
      "    Phi = -m1/r1 - m2/r2 - 0.5*w2*rsq\n",
      "    return Phi"
     ],
     "language": "python",
     "metadata": {},
     "outputs": []
    },
    {
     "cell_type": "code",
     "collapsed": false,
     "input": [
      "m1 = 1.0\n",
      "m2 = 0.1\n",
      "mtot = m1+m2\n",
      "a = 1.0\n",
      "onethird = 1.0/3.0\n",
      "L2 = a*(m1/mtot + (m2/3.0/mtot)**onethird)\n",
      "L3 = a*(-(m1+2*m2)/mtot + 7*m2/12/m1)\n",
      "L1 = a*(m1/mtot - (m2/3.0/mtot)**onethird)\n",
      "L = L2-L3\n",
      "\n",
      "x1 = -a*m2/mtot\n",
      "x2 = a*m1/mtot\n",
      "\n",
      "L45x = 0.5*a + x1\n",
      "L45y = 0.5*a*np.sqrt(3.0)\n",
      "\n",
      "x = np.linspace(L3-0.25*L,L2+0.25*L,100)\n",
      "y = np.linspace(-0.75*L,0.75*L,100)\n",
      "x = np.tile(x,(100,1))\n",
      "y = np.tile(y,(100,1))\n",
      "y = np.transpose(y)\n",
      "\n",
      "plt.figure(figsize=(8,8))\n",
      "plt.axis('off')\n",
      "lvls = [-2.1,-1.964,-1.899,-1.8,-1.7]\n",
      "wdths = np.ones(len(lvls))\n",
      "wdths[1] = 2\n",
      "clrs = ['0.3']*len(lvls)\n",
      "clrs[1] = '0.0'\n",
      "plt.contour(x,y,roche_pot(x,y,m1,m2,a),levels=lvls,colors=clrs,linewidths=wdths,linestyles='solid')\n",
      "plt.plot([0.0,L2,L3,L45x,L45x],[0.0,0.0,0.0,L45y,-L45y],'k+',markersize=12)\n",
      "plt.plot([x1,x2],[0.0,0.0],'ko',markerfacecolor='k',markersize=12)\n",
      "plt.savefig('Roche.pdf',format='pdf')"
     ],
     "language": "python",
     "metadata": {},
     "outputs": []
    },
    {
     "cell_type": "code",
     "collapsed": false,
     "input": [],
     "language": "python",
     "metadata": {},
     "outputs": []
    }
   ],
   "metadata": {}
  }
 ]
}
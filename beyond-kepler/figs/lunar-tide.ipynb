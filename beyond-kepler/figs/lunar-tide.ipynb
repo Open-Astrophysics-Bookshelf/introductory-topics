{
 "metadata": {
  "name": "",
  "signature": "sha256:2df8e139b6ddcbbb7e05b14fb4d6c4b554cfce536f0d472d296080d8cba692dc"
 },
 "nbformat": 3,
 "nbformat_minor": 0,
 "worksheets": [
  {
   "cells": [
    {
     "cell_type": "code",
     "collapsed": false,
     "input": [
      "%matplotlib inline\n",
      "import numpy as np\n",
      "import matplotlib.pyplot as plt\n",
      "from palettable.wesanderson import Zissou_5"
     ],
     "language": "python",
     "metadata": {},
     "outputs": []
    },
    {
     "cell_type": "code",
     "collapsed": false,
     "input": [
      "ang = np.linspace(0.0,2.0*np.pi,37)\n",
      "x = np.cos(ang)\n",
      "y = np.sin(ang)"
     ],
     "language": "python",
     "metadata": {},
     "outputs": []
    },
    {
     "cell_type": "code",
     "collapsed": false,
     "input": [
      "mm = 1.0/81.3\n",
      "am = 60.3\n",
      "omega = 2.0*np.pi*(1.0+mm)/am**1.5\n",
      "print omega"
     ],
     "language": "python",
     "metadata": {},
     "outputs": []
    },
    {
     "cell_type": "code",
     "collapsed": false,
     "input": [
      "r = np.sqrt((x-am)**2 + y**2)\n",
      "xcm = mm*am/(1.0+mm)\n",
      "fx = -mm*(x-am)/r**3 - mm/am**2\n",
      "fy = -mm*y/r**3 \n",
      "plt.figure(figsize=(3,3))\n",
      "plt.axis('off')\n",
      "charsize = 10   # points\n",
      "#major_ticklength = 0.6*charsize\n",
      "#major_tickwidth = 0.9   # points\n",
      "#minor_ticklength = 0.3*charsize\n",
      "#minor_tickwidth = 0.7   # points\n",
      "#plt.ylabel(r'$y/R_\\oplus$',fontsize=charsize)\n",
      "#plt.xlabel(r'$x/R_\\oplus$',fontsize=charsize)\n",
      "#plt.tick_params(axis='both',\\\n",
      "#    length=major_ticklength, width=major_tickwidth,which='major',labelsize=10)\n",
      "#plt.tick_params(axis='both',\\\n",
      "#    length=minor_ticklength,width=minor_tickwidth,which='minor',labelsize=8)\n",
      "plt.xlim(-1.3,1.3)\n",
      "plt.ylim(-1.3,1.3)\n",
      "plt.tight_layout()\n",
      "plt.rc('axes', color_cycle = Zissou_5.mpl_colors)\n",
      "colors = Zissou_5.hex_colors\n",
      "plt.plot(x,y,color=colors[0],linewidth=1.5)\n",
      "plt.quiver(x,y,fx,fy,color=colors[2],scale=0.3*mm/am**2,width=0.015,edgecolor='face')\n",
      "plt.savefig('lunar-tidal-force.pdf',format='pdf')"
     ],
     "language": "python",
     "metadata": {},
     "outputs": []
    },
    {
     "cell_type": "code",
     "collapsed": false,
     "input": [
      "ang = np.arange(0.0,np.pi/2.0,np.pi/100)\n",
      "x = np.sin(ang)\n",
      "y = np.cos(ang)\n",
      "r = np.sqrt((am-x)**2 + y**2)\n",
      "fx = -mm*(x-am)/r**3 - mm/am**2\n",
      "fy = -mm*y/r**3 \n",
      "fr = (fy*np.cos(ang) + fx*np.sin(ang))* am**3/mm\n",
      "ft = (fx*np.cos(ang) -fy*np.sin(ang))*am**3/mm\n",
      "plt.plot(ang,fr)\n",
      "plt.plot(ang,ft)"
     ],
     "language": "python",
     "metadata": {},
     "outputs": []
    }
   ],
   "metadata": {}
  }
 ]
}